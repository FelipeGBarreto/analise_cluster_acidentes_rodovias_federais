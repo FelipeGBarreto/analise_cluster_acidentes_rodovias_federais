{
 "cells": [
  {
   "cell_type": "code",
   "execution_count": null,
   "id": "f48446b2",
   "metadata": {},
   "outputs": [],
   "source": [
    "2+2"
   ]
  },
  {
   "cell_type": "code",
   "execution_count": null,
   "id": "e6f0c49c",
   "metadata": {},
   "outputs": [],
   "source": []
  }
 ],
 "metadata": {
  "kernelspec": {
   "display_name": "R",
   "language": "R",
   "name": "ir"
  }
 },
 "nbformat": 4,
 "nbformat_minor": 5
}
